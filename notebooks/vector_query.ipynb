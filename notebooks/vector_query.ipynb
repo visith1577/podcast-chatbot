{
 "cells": [
  {
   "cell_type": "code",
   "execution_count": 1,
   "metadata": {},
   "outputs": [],
   "source": [
    "from qdrant_client import QdrantClient\n",
    "from qdrant_client.http import models\n",
    "import openai\n",
    "import groq\n",
    "from typing import List, Dict, Optional"
   ]
  },
  {
   "cell_type": "code",
   "execution_count": 2,
   "metadata": {},
   "outputs": [
    {
     "data": {
      "text/plain": [
       "True"
      ]
     },
     "execution_count": 2,
     "metadata": {},
     "output_type": "execute_result"
    }
   ],
   "source": [
    "from dotenv import load_dotenv\n",
    "import os\n",
    "\n",
    "load_dotenv()"
   ]
  },
  {
   "cell_type": "code",
   "execution_count": 3,
   "metadata": {},
   "outputs": [],
   "source": [
    "client = QdrantClient(\n",
    "    url=\"https://3973cdf9-4ba6-40b1-ae92-b2f952f82fb9.europe-west3-0.gcp.cloud.qdrant.io:6333\", \n",
    "    api_key=os.getenv(\"QDRANT_CLOUD_API_KEY\"),\n",
    ")"
   ]
  },
  {
   "cell_type": "code",
   "execution_count": 4,
   "metadata": {},
   "outputs": [
    {
     "data": {
      "text/plain": [
       "CollectionsResponse(collections=[CollectionDescription(name='podcasts')])"
      ]
     },
     "execution_count": 4,
     "metadata": {},
     "output_type": "execute_result"
    }
   ],
   "source": [
    "client.get_collections()"
   ]
  },
  {
   "cell_type": "code",
   "execution_count": 5,
   "metadata": {},
   "outputs": [],
   "source": [
    "openai_client = openai.Client()\n",
    "\n",
    "openai.api_key = os.getenv(\"OPENAI_API_KEY\")\n",
    "\n",
    "VECTOR_SIZE = 1536  \n",
    "\n",
    "def get_embedding(text: str) -> List[float]:\n",
    "    \"\"\"Get OpenAI embedding for the given text.\"\"\"\n",
    "\n",
    "    response = openai_client.embeddings.create(input=text, model=\"text-embedding-3-small\")\n",
    "    return response.data[0].embedding"
   ]
  },
  {
   "cell_type": "code",
   "execution_count": 9,
   "metadata": {},
   "outputs": [],
   "source": [
    "KEYWORD_PROMPT=\"\"\"\n",
    "Your task is to analyse the query and identify the entities in the query.\n",
    "The output must contain only the entities separated by comma and no other details. \n",
    "Do not share anything other than what you are asked to.\n",
    "You must strictly follow the instruction.\n",
    "only provide the keywords found and nothing else.\n",
    "\"\"\"\n",
    "\n",
    "groq_client = groq.Groq(\n",
    "    api_key=os.getenv(\"GROQ_API_KEY\"),\n",
    ")\n",
    "\n",
    "def get_entities(text: str) -> List[str]:\n",
    "    \"\"\"Get entities from the given text using GROQ.\"\"\"\n",
    "    response = groq_client.chat.completions.create(\n",
    "        messages=[{\"role\": \"system\", \"content\": KEYWORD_PROMPT}, {\"role\": \"user\", \"content\": text}],\n",
    "        model=\"llama3-8b-8192\",\n",
    "    )\n",
    "    return response.choices[0].message.content.split(\", \")"
   ]
  },
  {
   "cell_type": "code",
   "execution_count": 33,
   "metadata": {},
   "outputs": [],
   "source": [
    "def hybrid_search(\n",
    "    collection_name: str,\n",
    "    query: str,\n",
    "    limit: int = 5,\n",
    "    subtopic: Optional[str] = None,\n",
    "    speakers: Optional[List[str]] = None,\n",
    "    title: Optional[str] = None,\n",
    "    full_text_search: bool = True\n",
    ") -> List[Dict]: \n",
    "    \"\"\"Search for similar documents in the collection using a hybrid search approach.\n",
    "    \n",
    "    Args:\n",
    "        collection_name: The name of the collection to search in.\n",
    "        query: The query text.\n",
    "        limit: The number of results to return.\n",
    "        subtopic: The subtopic of the document.\n",
    "        speakers: The speakers of the document.\n",
    "        title: The title of the document.\n",
    "\n",
    "    Returns:\n",
    "        A list of dictionaries containing the search results.\n",
    "    \"\"\"\n",
    "\n",
    "    # Get the embeddings for the query text.\n",
    "    query_embedding = get_embedding(query)\n",
    "\n",
    "    must_conditions = []\n",
    "    should_conditions = []\n",
    "\n",
    "    final_result = []\n",
    "\n",
    "    # Metadata filtering\n",
    "    if subtopic:\n",
    "        must_conditions.append(models.FieldCondition(key=\"subtopic\", match=models.MatchValue(value=subtopic)))\n",
    "    if speakers:\n",
    "        must_conditions.append(models.FieldCondition(key=\"metadata.speakers\", match=models.MatchAny(any=speakers)))\n",
    "    if title:\n",
    "        must_conditions.append(models.FieldCondition(key=\"metadata.title\", match=models.MatchValue(value=title)))\n",
    "\n",
    "    # Full-text search condition\n",
    "    if full_text_search == True:\n",
    "        entities = get_entities(query)\n",
    "        for word in entities:\n",
    "            should_conditions.append(models.FieldCondition(key=\"content\", match=models.MatchText(text=word)))\n",
    "\n",
    "    # search with and without full-text search\n",
    "\n",
    "    if full_text_search == True:\n",
    "        search_result = client.search(\n",
    "            collection_name=collection_name,\n",
    "            query_vector=query_embedding,\n",
    "            query_filter=models.Filter(\n",
    "                must=must_conditions,\n",
    "                should=should_conditions\n",
    "            ),\n",
    "            limit=limit,\n",
    "            with_payload=True,\n",
    "            score_threshold=0.0\n",
    "        )\n",
    "        final_result = search_result\n",
    "\n",
    "    search_result = client.search(\n",
    "        collection_name=collection_name,\n",
    "        query_vector=query_embedding,\n",
    "        query_filter=models.Filter(\n",
    "            must=must_conditions\n",
    "        ),\n",
    "        limit=limit,\n",
    "        with_payload=True,\n",
    "        score_threshold=0.0\n",
    "    )\n",
    "    final_result += search_result\n",
    "    \n",
    "    retrieved_docs = [\n",
    "        {\n",
    "            \"id\": hit.id,\n",
    "            \"subtopic\": hit.payload.get(\"subtopic\"),\n",
    "            \"speakers\": hit.payload.get(\"speakers\"),\n",
    "            \"content\": hit.payload.get(\"content\"),\n",
    "            \"title\": hit.payload.get(\"title\"),\n",
    "            \"url\": hit.payload.get(\"url\"),\n",
    "            \"timestamp\": hit.payload.get(\"timestamp\"),\n",
    "            \"score\": hit.score\n",
    "        }\n",
    "        for hit in final_result\n",
    "    ]\n",
    "\n",
    "    # remove duplicates and sort by score\n",
    "    seen = set()\n",
    "    unique_docs = []\n",
    "    for doc in retrieved_docs:\n",
    "        if doc[\"id\"] not in seen:\n",
    "            seen.add(doc[\"id\"])\n",
    "            unique_docs.append(doc)\n",
    "    unique_docs = sorted(unique_docs, key=lambda x: x[\"score\"], reverse=True)\n",
    "    return unique_docs"
   ]
  },
  {
   "cell_type": "code",
   "execution_count": 34,
   "metadata": {},
   "outputs": [],
   "source": [
    "results = hybrid_search(\n",
    "    collection_name=\"podcasts\",\n",
    "    query=\"Is Israel doing the correct thing attacking Gaza?\",\n",
    ")"
   ]
  },
  {
   "cell_type": "code",
   "execution_count": 35,
   "metadata": {},
   "outputs": [
    {
     "data": {
      "text/plain": [
       "[{'id': 'd1b9f130-24d6-4878-ba77-344767d23313',\n",
       "  'subtopic': 'Israel-Palestine',\n",
       "  'speakers': ['Fridman', 'Destiny', 'Shapiro'],\n",
       "  'content': 'Fridman: Before we go to Ukraine, can I ask about Israel? So you’re both mostly in agreement, but what is Israel? \\n Destiny: I don’t know if I’d say that. \\n Fridman: Okay, but as I’m learning what is Israel doing right? What is Israel doing wrong in this very specific current war in Gaza? \\n Shapiro: I mean, frankly, I think that what Israel’s doing wrong is if I were Israel, again, America’s interests are not coincident with Israel’s interests. If I were an Israeli leader, I would’ve swiveled up and I would’ve knocked the bleep out of Hezbollah early. What does that mean mean? What does that mean? So I would have Yoav Galant, who is the defense minister of Israel, was encouraging Netanyahu, who’s the prime minister and the war cabinet, including Benny Gantz. People talk about the Netanyahu government. That’s not what’s in place right now. There’s a unity war government in place that includes the political opposition. The reason I point that out is because there are a lot of people politically who will suggest that the actions Israel is currently taking are somehow the manifestation of a right-wing government. Israel currently does not have a quote, right-wing government, they have unity government that includes the opposition. \\n Shapiro: … on the ground level. So Israel’s attempting to minimize civilian casualties, and the cost of that has been the highest military death toll that Israel has had since the 1973 Yom Kippur War. I mean, I personally know, through one degree of separation, three separate people who have been killed in Gaza, and that’s because they’re going in door to door, it’s because they’re attempting to minimize civilian casualties and they’re losing a lot of guys in this particular war. The problem that Israel has had historically speaking is that Israel got very complacent about its own security situation. They believed the technology was going to somehow correct for the hatred on the other side of the wall. That, okay, so our people have to live underground for two weeks at a time while some rockets fall, but at least it’s not a war. \\n Destiny: Maybe. So in terms of broadly speaking, I generally oppose settlement expansion is a thing that Israel does incorrectly that I think is kind of provocative to at least all the Palestinians in the West Bank, and it probably energizes hatred in the Gaza Strip for them',\n",
       "  'title': 'Transcript for Ben Shapiro vs Destiny Debate: Politics, Jan 6, Israel, Ukraine & Wokeism | Lex Fridman Podcast #410 - Lex Fridman',\n",
       "  'url': 'https://lexfridman.com/ben-shapiro-destiny-debate-transcript/',\n",
       "  'timestamp': '[(00:56:28)](https://youtube.com/watch?v=tYrdMjVXyNg&t=3388)',\n",
       "  'score': 0.50759006},\n",
       " {'id': '5f3f43c5-9932-4910-a8d2-bacaa918845f',\n",
       "  'subtopic': 'Israel-Palestine',\n",
       "  'speakers': ['Fridman', 'Destiny', 'Shapiro'],\n",
       "  'content': ' the Palestinians in the West Bank, of which I believe the most recent polling shows, I want to say 75 to 80% support the October 7th attacks. Palestinians, in general, want to fight in violent conflict with Israel. That’s not just the position of the government. That’s not just people. There’s a reason why Abbas doesn’t want to do elections in the West Bank, and it’s because the Palestinian people really do want to fight with Israel. \\n Shapiro: I will argue with that. The idea that Israel does not want to end the conflict is belied by the history of what just happened with the Gaza Strip. So when we talk about settlements for example, Israel did have settlements inside the Gaza Strip. There were 8,000 Jews who were living inside the Gaza Strip in Gush Katif. Up until 2005, they withdrew all of those people, I mean, took them literally out of their homes, and the result was not the burgeoning of a better attitude toward the state of Israel with regard to, for example, the Palestinian population in Gaza. In fact, it was more radical in Gaza than it was in the West Bank. The result was obviously the election of Hamas, the October 7th attacks, in which unfortunately, many civilians took part in the October 7th attacks. There’s video of people rushing, who are civilians and dressed in civilian clothing, into Israeli villages. \\n Destiny: Oh, careful. Not always the same thing. \\n Shapiro: Well, no, no. That is 100% true, obviously. And when it comes to Area C and Israel’s supposed deep and abiding desire for territorial expansion in Area C. Area C, so for those who are not familiar with the Oslo Accords, and again, this is getting very abstruse, but the Oslo Accords are broken down into three areas of the West Bank. Area A is under full Palestinian control. That’d be like Jenin and Nablus, the major cities, for example. There’s Area B, which is mixed Israeli-Palestinian control, where Israel provides some level of military security and control, and then there’s Area C. And Area C was like to be decided later. It was left up for possible concessions to the Palestinian authority if the Oslo accords have moved forward. Those are disputed territories. There is building taking place in Area C by both, actually no one talks about this,',\n",
       "  'title': 'Transcript for Ben Shapiro vs Destiny Debate: Politics, Jan 6, Israel, Ukraine & Wokeism | Lex Fridman Podcast #410 - Lex Fridman',\n",
       "  'url': 'https://lexfridman.com/ben-shapiro-destiny-debate-transcript/',\n",
       "  'timestamp': '[(00:56:28)](https://youtube.com/watch?v=tYrdMjVXyNg&t=3388)',\n",
       "  'score': 0.46448988},\n",
       " {'id': '60b984ff-feea-4fe1-b156-9678c244c180',\n",
       "  'subtopic': 'Israel-Hamas war',\n",
       "  'speakers': ['Fridman', 'Musk'],\n",
       "  'content': 'Fridman: Yeah. Safe to say. So, like I said, somehow controversially, you’ve been a proponent of peace on Twitter on X. \\n Fridman: So let me ask you about the wars going on today and to see what the path to peace could be. How do you hope the current war in Israel and Gaza comes to an end? What path do you see that can minimize human suffering in the longterm in that part of the world? \\n Musk: Well, I think that part of the world is definitely, if you look up… There is no easy answer in the dictionary. It’ll be the picture of the Middle East in Israel especially. So there is no easy answer. This is strictly my opinion is that the goal of Hamas was to provoke an overreaction from Israel. They obviously did not expect to have a military victory, but they really wanted to commit the worst atrocities that they could in order to provoke the most aggressive response possible from Israel, and then leverage that aggressive response to rally Muslims worldwide for the course of Gaza and Palestine, which they have succeeded in doing. So the counterintuitive thing here, I think that the thing that I think should be done, even though it’s very difficult, is that I would recommend that Israel engage in the most conspicuous acts of kindness possible, everything, that is the actual thing that we’re taught the goal of Hamas. \\n Fridman: So in some sense, the degree that makes sense in geopolitics turn the other cheek implemented. \\n Musk: It’s not exactly turn the other cheek because I do think that it is appropriate for Israel to find the Hamas members and either kill them or incarcerate them. That’s something has to be done because they’re just going to keep coming otherwise. But in addition to that, they need to do whatever they can. There’s some talk of establishing, for example, a mobile hospital. I’d recommend doing that. Just making sure that there’s food, water, medical necessities and just be over the top about it and be very transparent. So \\\\[inaudible 00:07:22\\\\] can claim it’s a trick. Just put webcam on the thing or 24, 7. \\n Fridman: Deploy acts of kindness. \\n Musk: Yeah, conspicuous acts of kindness that are unequivocal, meaning they can’t be somehow because Hamas will then their response will be, “Oh, it’s a trick.” Therefore',\n",
       "  'title': 'Transcript for Elon Musk: War, AI, Aliens, Politics, Physics, Video Games, and Humanity | Lex Fridman Podcast #400 - Lex Fridman',\n",
       "  'url': 'https://lexfridman.com/elon-musk-4-transcript/#chapter1_war_and_human_nature',\n",
       "  'timestamp': '[(00:04:30)](https://youtube.com/watch?v=JN3KPFbWCy8&t=270)',\n",
       "  'score': 0.43538734},\n",
       " {'id': 'b7d43ae2-5655-4b8e-b618-e15377b5bb72',\n",
       "  'subtopic': 'Israel-Palestine',\n",
       "  'speakers': ['Fridman', 'Destiny', 'Shapiro'],\n",
       "  'content': ' as well. In terms of conducting warfare, the one thing that I always say to everybody, especially Americans, is you can’t evaluate things from an American perspective. It’s very stupid. It happened a lot with Ukraine where people are like, “Oh, well, they work with the Nazis?” and “Weren’t the Soviets the good guys?” And it’s like, well, in other parts of the world, it’s not quite as simple. And I think the same is true for Israel-Palestine, that a lot of Americans will analyze the conflict as just being one between only Israel and Palestine, which it’s not, it’s a conflict between Israel and then Palestine, Hezbollah, the Houthis, and Iran. Right now, it is. \\n Shapiro: No, I mean, I think Israel would love nothing better than that, but that is \\\\[inaudible 01:01:21\\\\]. \\n Shapiro: One of the big problems in the Middle East is literally no one wants to preside over the Palestinians. No one. In the Arab states, Israel, no one. \\n Destiny: So I think the issue, and I’m largely actually, I’m very sympathetic towards the Palestinians because I think that since ’48 and onwards, I think that all of the Arab states super gassed them up on that. They wanted the Palestinians to fight because they wanted to fight with Israel. However, as time has gone on and they’ve realized that it’s kind of a lost cause, states have started to drop out. So you’re getting these bilateral peace treaties with Egypt and with Jordan, you’re getting multilateral agreements like the Abraham Accords, and now, the Palestinians are looking around. I’m like, “Okay, well, you guys told us to fight all this time, and now, the only people that we have supporting us are Iranian proxies.” So the Palestinians are in a very weird spot where they’ve lost all their support. \\n Fridman: Is there a difference between Palestinian citizens and the leadership when you say that? \\n Destiny: I love all people. I love all people around the world, and I think that when we analyze issues, I think that we have to be very honest with what the people on the ground think. And the idea that Hamas is just this one-off thing in the Gaza Strip is not only incorrect with the situation on the ground, it’s also incredibly ahistorical. And the idea that',\n",
       "  'title': 'Transcript for Ben Shapiro vs Destiny Debate: Politics, Jan 6, Israel, Ukraine & Wokeism | Lex Fridman Podcast #410 - Lex Fridman',\n",
       "  'url': 'https://lexfridman.com/ben-shapiro-destiny-debate-transcript/',\n",
       "  'timestamp': '[(00:56:28)](https://youtube.com/watch?v=tYrdMjVXyNg&t=3388)',\n",
       "  'score': 0.40886807},\n",
       " {'id': '951e966f-e47d-4ec1-9ade-af9ea19b36e1',\n",
       "  'subtopic': 'Israel-Palestine',\n",
       "  'speakers': ['Fridman', 'Destiny', 'Shapiro'],\n",
       "  'content': ' but by Palestinians as well as Israelis. \\n Destiny: True. But I think Israel does want to continue to expand settlements into the West Bank, right? They want to continue to build, they want to have all of Jerusalem, East Jerusalem as well. \\n Shapiro: Well, I mean, East Jerusalem has already been annexed. So East Jerusalem is, according to Israel, a part of Israel. That’s not a settlement. \\n Shapiro: Okay. So there’s that. With regard to does Israel have an interest in expanding settlements in the West Bank? Why would they not until there’s a peace partner? \\n Shapiro: \\\\[inaudible 01:08:05\\\\]. \\n Destiny: That’s what I mean. But I’m saying as long as the conflict continues, because even when you talk about- \\n Shapiro: But no, your suggestion is that they’re incentivizing the conflict to continue so they can grab more land. \\n Destiny: Well, no, let me be very clear. I don’t think there’s a… So some people say, for instance, they’ll take that one quote from Netanyahu and they’ll try to say that he was funding the people on the Gaza Strip by allowing Qatari money to come in, even though he was actually speaking in opposition to Abbas, allowing the Gaza Strip to fall for Netanyahu to clear it out for him and they give it back, et cetera, et cetera. I’m not claiming those theories. I’m just saying that I think that Israel will take a relatively neutral stance towards conflict and enduring, because as long as the conflict endures, and as long as the settlements can expand, I think that ultimately benefits Israel. \\n Shapiro: I think there would be… Let’s put it this way, if suddenly there are arose among the Palestinians, a deep and abiding desire for peace approved by a vast majority of the population with serious security guarantees, I think you’d be very hard-pressed to find Israelis who would not be willing to at least consider that. \\\\[inaudible 01:08:57\\\\] not expanding bathrooms \\\\[inaudible 01:08:59\\\\]. \\n Destiny: I would’ve agreed with you on October 6th. I think we’re probably a year or two away from that right now. \\n Shapiro: No, no. But no, the point I’m making is that Israelis now realize that the entire peace',\n",
       "  'title': 'Transcript for Ben Shapiro vs Destiny Debate: Politics, Jan 6, Israel, Ukraine & Wokeism | Lex Fridman Podcast #410 - Lex Fridman',\n",
       "  'url': 'https://lexfridman.com/ben-shapiro-destiny-debate-transcript/',\n",
       "  'timestamp': '[(00:56:28)](https://youtube.com/watch?v=tYrdMjVXyNg&t=3388)',\n",
       "  'score': 0.4013428}]"
      ]
     },
     "execution_count": 35,
     "metadata": {},
     "output_type": "execute_result"
    }
   ],
   "source": [
    "results"
   ]
  },
  {
   "cell_type": "code",
   "execution_count": null,
   "metadata": {},
   "outputs": [],
   "source": []
  }
 ],
 "metadata": {
  "kernelspec": {
   "display_name": ".venv",
   "language": "python",
   "name": "python3"
  },
  "language_info": {
   "codemirror_mode": {
    "name": "ipython",
    "version": 3
   },
   "file_extension": ".py",
   "mimetype": "text/x-python",
   "name": "python",
   "nbconvert_exporter": "python",
   "pygments_lexer": "ipython3",
   "version": "3.11.5"
  }
 },
 "nbformat": 4,
 "nbformat_minor": 2
}
